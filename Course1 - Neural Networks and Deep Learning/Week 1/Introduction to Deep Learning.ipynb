{
 "cells": [
  {
   "attachments": {},
   "cell_type": "markdown",
   "metadata": {},
   "source": [
    "# What is a Neural Network?\n",
    "\n",
    "<img src='images/0.JPG'>\n",
    "\n",
    "<img src='images/0_1.JPG'>\n",
    "\n",
    "<img src='images/1.JPG'>\n",
    "\n",
    "<img src='images/1_1.JPG'>\n",
    "\n",
    "<img src='images/2.JPG'>\n",
    "\n",
    "<img src='images/2_1.JPG'>\n",
    "\n",
    "<img src='images/2_2.JPG'>"
   ]
  },
  {
   "cell_type": "markdown",
   "metadata": {},
   "source": [
    "# Supervised Learning with Neural Networks\n",
    "\n",
    "<img src='images/2_3.JPG'>\n",
    "\n",
    "<img src='images/2_4.JPG'>\n",
    "\n",
    "<img src='images/2_5.JPG'>\n",
    "\n",
    "<img src='images/2_6.JPG'>\n",
    "\n",
    "<img src='images/2_7.JPG'>"
   ]
  },
  {
   "attachments": {},
   "cell_type": "markdown",
   "metadata": {},
   "source": [
    "# Why is Deep Learning taking off?\n",
    "\n",
    "<img src='images/3.JPG'>\n",
    "\n",
    "<img src='images/3_1.JPG'>"
   ]
  }
 ],
 "metadata": {
  "kernelspec": {
   "display_name": "PyCharm (EnrichProjects)",
   "language": "python",
   "name": "pycharm-b64b4bc7"
  },
  "language_info": {
   "codemirror_mode": {
    "name": "ipython",
    "version": 3
   },
   "file_extension": ".py",
   "mimetype": "text/x-python",
   "name": "python",
   "nbconvert_exporter": "python",
   "pygments_lexer": "ipython3",
   "version": "3.7.3"
  }
 },
 "nbformat": 4,
 "nbformat_minor": 2
}
