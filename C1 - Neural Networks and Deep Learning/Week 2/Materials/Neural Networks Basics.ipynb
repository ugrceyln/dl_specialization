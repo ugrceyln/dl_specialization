{
 "cells": [
  {
   "cell_type": "markdown",
   "metadata": {},
   "source": [
    "<img src='images/1.JPG'>\n",
    "\n",
    "<img src='images/2.JPG'>\n",
    "\n",
    "<img src='images/3.JPG'>\n",
    "\n",
    "<img src='images/4.JPG'>\n",
    "\n",
    "<img src='images/5.JPG'>\n",
    "\n",
    "<img src='images/6.JPG'>\n",
    "\n",
    "<img src='images/7.JPG'>\n",
    "\n",
    "<img src='images/8.JPG'>\n"
   ]
  },
  {
   "cell_type": "markdown",
   "metadata": {},
   "source": [
    "<img src='images/9.JPG'>\n",
    "\n",
    "<img src='images/10.JPG'>\n",
    "\n",
    "<img src='images/10_1.JPG'>\n",
    "\n",
    "<img src='images/11.JPG'>\n",
    "\n",
    "<img src='images/12.JPG'>\n"
   ]
  },
  {
   "cell_type": "markdown",
   "metadata": {},
   "source": [
    "<img src='images/13.JPG'>\n",
    "\n",
    "<img src='images/14.JPG'>\n",
    "\n",
    "<img src='images/15.JPG'>"
   ]
  },
  {
   "cell_type": "markdown",
   "metadata": {},
   "source": [
    "<img src='images/16.JPG'>\n",
    "\n",
    "<img src='images/17.JPG'>\n",
    "\n",
    "<img src='images/18.JPG'>\n"
   ]
  },
  {
   "cell_type": "markdown",
   "metadata": {},
   "source": [
    "<img src='images/19.JPG'>\n",
    "\n",
    "<img src='images/20.JPG'>\n",
    "\n",
    "<img src='images/21.JPG'>\n",
    "\n",
    "<img src='images/22.JPG'>\n"
   ]
  },
  {
   "cell_type": "markdown",
   "metadata": {},
   "source": [
    "<img src='images/23.JPG'>\n",
    "\n",
    "<img src='images/24.JPG'>\n",
    "\n",
    "<img src='images/25.JPG'>\n",
    "\n",
    "<img src='images/26.JPG'>"
   ]
  },
  {
   "cell_type": "markdown",
   "metadata": {},
   "source": [
    "<img src='images/27.JPG'>\n",
    "\n",
    "<img src='images/28.JPG'>\n",
    "\n",
    "<img src='images/29.JPG'>"
   ]
  },
  {
   "cell_type": "markdown",
   "metadata": {},
   "source": [
    "<img src='images/30.JPG'>\n",
    "\n",
    "<img src='images/31.JPG'>\n",
    "\n",
    "<img src='images/32.JPG'>"
   ]
  },
  {
   "cell_type": "markdown",
   "metadata": {},
   "source": [
    "<img src='images/33.JPG'>\n"
   ]
  },
  {
   "cell_type": "code",
   "execution_count": null,
   "metadata": {},
   "outputs": [],
   "source": []
  }
 ],
 "metadata": {
  "kernelspec": {
   "display_name": "PyCharm (EnrichProjects)",
   "language": "python",
   "name": "pycharm-b64b4bc7"
  },
  "language_info": {
   "codemirror_mode": {
    "name": "ipython",
    "version": 3
   },
   "file_extension": ".py",
   "mimetype": "text/x-python",
   "name": "python",
   "nbconvert_exporter": "python",
   "pygments_lexer": "ipython3",
   "version": "3.7.3"
  }
 },
 "nbformat": 4,
 "nbformat_minor": 2
}
